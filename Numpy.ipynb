{
  "cells": [
    {
      "cell_type": "markdown",
      "metadata": {
        "id": "DIl4swbP_Iux"
      },
      "source": [
        "# NumPy Practice Notebook\n",
        "\n",
        "This notebook contains a series of practice problems to help you understand and apply core concepts in NumPy.\n",
        "\n",
        "---\n",
        "\n",
        "## 🧩 1. Array Creation\n",
        "**Question:** Create the following arrays using NumPy:\n",
        "1. A 1D array with numbers from 0 to 9\n",
        "2. A 2D array of shape (3, 3) filled with zeros\n",
        "3. A 2D array of shape (2, 4) filled with ones\n",
        "4. A 3x3 identity matrix\n",
        "\n",
        "\n",
        "---\n"
      ]
    },
    {
      "cell_type": "code",
      "execution_count": 96,
      "metadata": {
        "id": "Z2WD9-cU_6y8"
      },
      "outputs": [
        {
          "data": {
            "text/plain": [
              "array([0, 1, 2, 3, 4, 5, 6, 7, 8, 9])"
            ]
          },
          "execution_count": 96,
          "metadata": {},
          "output_type": "execute_result"
        }
      ],
      "source": [
        "#1\n",
        "import numpy as np # import numpy to use it over the whole file\n",
        "\n",
        "arr1 = np.arange(10) # create an array of numbers from 0 to 9\n",
        "arr1"
      ]
    },
    {
      "cell_type": "code",
      "execution_count": 97,
      "metadata": {},
      "outputs": [
        {
          "data": {
            "text/plain": [
              "array([[0., 0., 0.],\n",
              "       [0., 0., 0.],\n",
              "       [0., 0., 0.]])"
            ]
          },
          "execution_count": 97,
          "metadata": {},
          "output_type": "execute_result"
        }
      ],
      "source": [
        "arr2 = np.zeros((3,3)) # 3x3 matrix full of zeros\n",
        "arr2"
      ]
    },
    {
      "cell_type": "code",
      "execution_count": 98,
      "metadata": {},
      "outputs": [
        {
          "data": {
            "text/plain": [
              "array([[1., 1., 1., 1.],\n",
              "       [1., 1., 1., 1.]])"
            ]
          },
          "execution_count": 98,
          "metadata": {},
          "output_type": "execute_result"
        }
      ],
      "source": [
        "arr3 = np.ones((2,4)) # creates 2x4 matrix full of one\n",
        "arr3"
      ]
    },
    {
      "cell_type": "code",
      "execution_count": 99,
      "metadata": {},
      "outputs": [
        {
          "data": {
            "text/plain": [
              "array([[1., 0., 0.],\n",
              "       [0., 1., 0.],\n",
              "       [0., 0., 1.]])"
            ]
          },
          "execution_count": 99,
          "metadata": {},
          "output_type": "execute_result"
        }
      ],
      "source": [
        "arr4 = np.eye(3,3) #creates 3x3 identity matrix\n",
        "arr4"
      ]
    },
    {
      "cell_type": "markdown",
      "metadata": {
        "id": "UAFotM1N_h8t"
      },
      "source": [
        "\n",
        "## 🧪 2. Array Inspection\n",
        "**Question:** Given a NumPy array `arr`, print:\n",
        "1. Its shape\n",
        "2. Its data type\n",
        "3. The number of dimensions\n",
        "4. The total number of elements\n",
        "\n",
        "```python\n",
        "arr = np.array([[1, 2, 3], [4, 5, 6]])\n",
        "\n",
        "```\n",
        "\n",
        "---\n"
      ]
    },
    {
      "cell_type": "code",
      "execution_count": 100,
      "metadata": {},
      "outputs": [
        {
          "data": {
            "text/plain": [
              "array([[1, 2, 3],\n",
              "       [4, 5, 6]])"
            ]
          },
          "execution_count": 100,
          "metadata": {},
          "output_type": "execute_result"
        }
      ],
      "source": [
        "arr5 = np.array([[1, 2, 3], [4, 5, 6]]) # creating the array i’m gonna work on\n",
        "arr5"
      ]
    },
    {
      "cell_type": "code",
      "execution_count": 101,
      "metadata": {},
      "outputs": [
        {
          "data": {
            "text/plain": [
              "(2, 3)"
            ]
          },
          "execution_count": 101,
          "metadata": {},
          "output_type": "execute_result"
        }
      ],
      "source": [
        "arr5.shape # returns the shape of the array as a tuple"
      ]
    },
    {
      "cell_type": "code",
      "execution_count": 102,
      "metadata": {},
      "outputs": [
        {
          "data": {
            "text/plain": [
              "dtype('int32')"
            ]
          },
          "execution_count": 102,
          "metadata": {},
          "output_type": "execute_result"
        }
      ],
      "source": [
        "arr5.dtype # returns the data type of the data into the array"
      ]
    },
    {
      "cell_type": "code",
      "execution_count": 103,
      "metadata": {},
      "outputs": [
        {
          "data": {
            "text/plain": [
              "2"
            ]
          },
          "execution_count": 103,
          "metadata": {},
          "output_type": "execute_result"
        }
      ],
      "source": [
        "arr5.ndim # returns the number of dimensions of the array"
      ]
    },
    {
      "cell_type": "code",
      "execution_count": 104,
      "metadata": {},
      "outputs": [
        {
          "data": {
            "text/plain": [
              "6"
            ]
          },
          "execution_count": 104,
          "metadata": {},
          "output_type": "execute_result"
        }
      ],
      "source": [
        "arr5.shape[0] * arr5.shape[1] # using shape proprety to get the number of elements in the array"
      ]
    },
    {
      "cell_type": "markdown",
      "metadata": {
        "id": "ssUHqVJR_lyu"
      },
      "source": [
        "\n",
        "## 🔍 3. Indexing and Slicing\n",
        "**Question:** Using the array below, do the following:\n",
        "1. Slice the first two rows\n",
        "2. Get the last column\n",
        "3. Extract the element in the second row and third column\n",
        "4. Reverse the rows\n",
        "\n",
        "```python\n",
        "arr = np.array([[10, 20, 30], [40, 50, 60], [70, 80, 90]])\n",
        "\n",
        "```\n"
      ]
    },
    {
      "cell_type": "code",
      "execution_count": 105,
      "metadata": {
        "id": "EHK3lYVn_8vR"
      },
      "outputs": [
        {
          "data": {
            "text/plain": [
              "array([[10, 20, 30],\n",
              "       [40, 50, 60],\n",
              "       [70, 80, 90]])"
            ]
          },
          "execution_count": 105,
          "metadata": {},
          "output_type": "execute_result"
        }
      ],
      "source": [
        "arr = np.array([[10, 20, 30], [40, 50, 60], [70, 80, 90]]) # creating the array we’re gonna use\n",
        "arr"
      ]
    },
    {
      "cell_type": "code",
      "execution_count": 106,
      "metadata": {},
      "outputs": [
        {
          "data": {
            "text/plain": [
              "array([[10, 20, 30],\n",
              "       [40, 50, 60]])"
            ]
          },
          "execution_count": 106,
          "metadata": {},
          "output_type": "execute_result"
        }
      ],
      "source": [
        "arr[:2 , :] # getting the first two rows"
      ]
    },
    {
      "cell_type": "code",
      "execution_count": 107,
      "metadata": {},
      "outputs": [
        {
          "data": {
            "text/plain": [
              "array([30, 60, 90])"
            ]
          },
          "execution_count": 107,
          "metadata": {},
          "output_type": "execute_result"
        }
      ],
      "source": [
        "arr[: , -1] # getting the last column"
      ]
    },
    {
      "cell_type": "code",
      "execution_count": 108,
      "metadata": {},
      "outputs": [
        {
          "data": {
            "text/plain": [
              "60"
            ]
          },
          "execution_count": 108,
          "metadata": {},
          "output_type": "execute_result"
        }
      ],
      "source": [
        "arr[1,2] # getting the element in the second row and third column"
      ]
    },
    {
      "cell_type": "code",
      "execution_count": 109,
      "metadata": {},
      "outputs": [
        {
          "data": {
            "text/plain": [
              "array([[70, 80, 90],\n",
              "       [40, 50, 60],\n",
              "       [10, 20, 30]])"
            ]
          },
          "execution_count": 109,
          "metadata": {},
          "output_type": "execute_result"
        }
      ],
      "source": [
        "arr[::-1] # reverse the rows"
      ]
    },
    {
      "cell_type": "markdown",
      "metadata": {
        "id": "DwYyM0b1_nA5"
      },
      "source": [
        "\n",
        "---\n",
        "\n",
        "## 🔁 4. More Slicing Practice\n",
        "**Question:**\n",
        "Given the array below, extract:\n",
        "1. All even numbers\n",
        "2. The second and third rows\n",
        "3. The last two columns\n",
        "4. A subarray containing the middle 2x2 block\n",
        "\n",
        "```python\n",
        "arr = np.array([[1, 2, 3, 4],\n",
        "                [5, 6, 7, 8],\n",
        "                [9, 10, 11, 12],\n",
        "                [13, 14, 15, 16]])\n",
        "\n",
        "```\n"
      ]
    },
    {
      "cell_type": "code",
      "execution_count": 110,
      "metadata": {
        "id": "Z9dvnQF2_9xI"
      },
      "outputs": [
        {
          "data": {
            "text/plain": [
              "array([[ 1,  2,  3,  4],\n",
              "       [ 5,  6,  7,  8],\n",
              "       [ 9, 10, 11, 12],\n",
              "       [13, 14, 15, 16]])"
            ]
          },
          "execution_count": 110,
          "metadata": {},
          "output_type": "execute_result"
        }
      ],
      "source": [
        "arr = np.array([[1, 2, 3, 4],\n",
        "                [5, 6, 7, 8],\n",
        "                [9, 10, 11, 12],\n",
        "                [13, 14, 15, 16]]) # creating the matrix we’re gonna use\n",
        "arr"
      ]
    },
    {
      "cell_type": "code",
      "execution_count": 111,
      "metadata": {},
      "outputs": [
        {
          "data": {
            "text/plain": [
              "array([ 2,  4,  6,  8, 10, 12, 14, 16])"
            ]
          },
          "execution_count": 111,
          "metadata": {},
          "output_type": "execute_result"
        }
      ],
      "source": [
        "arr[arr%2==0] # getting only the even numbers"
      ]
    },
    {
      "cell_type": "code",
      "execution_count": 112,
      "metadata": {},
      "outputs": [
        {
          "data": {
            "text/plain": [
              "array([[ 5,  6,  7,  8],\n",
              "       [ 9, 10, 11, 12]])"
            ]
          },
          "execution_count": 112,
          "metadata": {},
          "output_type": "execute_result"
        }
      ],
      "source": [
        "arr[1:3,:] # getting the second and third rows"
      ]
    },
    {
      "cell_type": "code",
      "execution_count": 113,
      "metadata": {},
      "outputs": [
        {
          "data": {
            "text/plain": [
              "array([[ 3,  4],\n",
              "       [ 7,  8],\n",
              "       [11, 12],\n",
              "       [15, 16]])"
            ]
          },
          "execution_count": 113,
          "metadata": {},
          "output_type": "execute_result"
        }
      ],
      "source": [
        "arr[: , 2:] # getting 2nd column onwards"
      ]
    },
    {
      "cell_type": "code",
      "execution_count": 114,
      "metadata": {},
      "outputs": [
        {
          "data": {
            "text/plain": [
              "array([[ 6,  7],\n",
              "       [10, 11]])"
            ]
          },
          "execution_count": 114,
          "metadata": {},
          "output_type": "execute_result"
        }
      ],
      "source": [
        "arr[1:3,1:3] # getting the middle 2x2 sub array"
      ]
    },
    {
      "cell_type": "markdown",
      "metadata": {
        "id": "TYIR2o4w_qHm"
      },
      "source": [
        "\n",
        "---\n",
        "\n",
        "## ➕ 5. Arithmetic Operations\n",
        "**Question:** Perform the following using NumPy arrays:\n",
        "1. Add two arrays element-wise\n",
        "2. Multiply two arrays element-wise\n",
        "3. Raise all elements of an array to the power of 2\n",
        "\n",
        "```python\n",
        "arr1 = np.array([1, 2, 3])\n",
        "arr2 = np.array([4, 5, 6])\n",
        "\n",
        "```\n",
        "\n",
        "---\n"
      ]
    },
    {
      "cell_type": "code",
      "execution_count": 115,
      "metadata": {
        "id": "3pOaUm-y_--J"
      },
      "outputs": [],
      "source": [
        "arr1 = np.array([1, 2, 3]) # getting our matrices ready for work\n",
        "arr2 = np.array([4, 5, 6])"
      ]
    },
    {
      "cell_type": "code",
      "execution_count": 116,
      "metadata": {},
      "outputs": [
        {
          "data": {
            "text/plain": [
              "array([5, 7, 9])"
            ]
          },
          "execution_count": 116,
          "metadata": {},
          "output_type": "execute_result"
        }
      ],
      "source": [
        "arr1 + arr2 # element wise addition"
      ]
    },
    {
      "cell_type": "code",
      "execution_count": 117,
      "metadata": {},
      "outputs": [
        {
          "data": {
            "text/plain": [
              "array([ 4, 10, 18])"
            ]
          },
          "execution_count": 117,
          "metadata": {},
          "output_type": "execute_result"
        }
      ],
      "source": [
        "arr1 *arr2 # element wise multiplication"
      ]
    },
    {
      "cell_type": "code",
      "execution_count": 118,
      "metadata": {},
      "outputs": [
        {
          "data": {
            "text/plain": [
              "array([1, 4, 9])"
            ]
          },
          "execution_count": 118,
          "metadata": {},
          "output_type": "execute_result"
        }
      ],
      "source": [
        "arr1 **2 # element wise square of arr1"
      ]
    },
    {
      "cell_type": "markdown",
      "metadata": {
        "id": "mfYIu2L9_rl6"
      },
      "source": [
        "\n",
        "## 📏 6. Broadcasting\n",
        "**Question:** Use broadcasting to:\n",
        "1. Add a 1D array to each row of a 2D array\n",
        "2. Multiply each row of a 2D array by a 1D array\n",
        "3. Subtract a scalar from each element in an array\n",
        "4. Add a column vector to each column of a matrix\n",
        "\n",
        "```python\n",
        "A = np.array([[1, 2, 3],\n",
        "              [4, 5, 6]])\n",
        "\n",
        "B = np.array([10, 20, 30])\n",
        "C = np.array([[1], [2]])\n",
        "\n",
        "```\n"
      ]
    },
    {
      "cell_type": "code",
      "execution_count": 124,
      "metadata": {
        "id": "HLueW9R2__sQ"
      },
      "outputs": [
        {
          "name": "stdout",
          "output_type": "stream",
          "text": [
            "[[1 2 3]\n",
            " [4 5 6]]\n",
            "\n",
            "[10 20 30]\n",
            "\n",
            "[[1]\n",
            " [2]]\n"
          ]
        }
      ],
      "source": [
        "import numpy as np\n",
        "# getting our matrices ready and print them for better visualization\n",
        "A = np.array([[1, 2, 3], [4, 5, 6]])\n",
        "B = np.array([10, 20, 30])\n",
        "C = np.array([[1], [2]])\n",
        "\n",
        "print(A , end='\\n\\n')\n",
        "print(B ,end ='\\n\\n')\n",
        "print(C)"
      ]
    },
    {
      "cell_type": "code",
      "execution_count": 125,
      "metadata": {},
      "outputs": [
        {
          "data": {
            "text/plain": [
              "array([[11, 22, 33],\n",
              "       [14, 25, 36]])"
            ]
          },
          "execution_count": 125,
          "metadata": {},
          "output_type": "execute_result"
        }
      ],
      "source": [
        "A + B  #Add a 1D array to each row of a 2D array"
      ]
    },
    {
      "cell_type": "code",
      "execution_count": 126,
      "metadata": {},
      "outputs": [
        {
          "data": {
            "text/plain": [
              "array([[ 10,  40,  90],\n",
              "       [ 40, 100, 180]])"
            ]
          },
          "execution_count": 126,
          "metadata": {},
          "output_type": "execute_result"
        }
      ],
      "source": [
        "A * B #Multiply each row of a 2D array by a 1D array"
      ]
    },
    {
      "cell_type": "code",
      "execution_count": 127,
      "metadata": {},
      "outputs": [
        {
          "data": {
            "text/plain": [
              "array([[0, 1, 2],\n",
              "       [3, 4, 5]])"
            ]
          },
          "execution_count": 127,
          "metadata": {},
          "output_type": "execute_result"
        }
      ],
      "source": [
        "A - 1 #Subtract a scalar from each element in an array"
      ]
    },
    {
      "cell_type": "code",
      "execution_count": 128,
      "metadata": {},
      "outputs": [
        {
          "data": {
            "text/plain": [
              "array([[2, 3, 4],\n",
              "       [6, 7, 8]])"
            ]
          },
          "execution_count": 128,
          "metadata": {},
          "output_type": "execute_result"
        }
      ],
      "source": [
        "A + C # Add a column vector to each column of a matrix"
      ]
    },
    {
      "cell_type": "markdown",
      "metadata": {
        "id": "GwaQHqqM_szI"
      },
      "source": [
        "\n",
        "---\n",
        "\n",
        "## 🔁 7. More Broadcasting Practice\n",
        "**Question:** Try these:\n",
        "1. Add a 1D array of shape (4,) to a 2D array of shape (3,4)\n",
        "2. Multiply a (3,1) column array to a (1,4) row array and observe the shape\n",
        "3. Add a scalar to the entire array\n",
        "\n",
        "```python\n",
        "A = np.arange(12).reshape(3, 4)\n",
        "B = np.array([100, 200, 300, 400])\n",
        "C = np.array([[2], [3], [4]])\n",
        "\n",
        "```\n"
      ]
    },
    {
      "cell_type": "code",
      "execution_count": 130,
      "metadata": {
        "id": "92PwMwBtAAwq"
      },
      "outputs": [],
      "source": [
        "A = np.arange(12).reshape(3, 4)\n",
        "B = np.array([100, 200, 300, 400]) # getting our arrays ready\n",
        "C = np.array([[2], [3], [4]])"
      ]
    },
    {
      "cell_type": "code",
      "execution_count": 131,
      "metadata": {},
      "outputs": [
        {
          "data": {
            "text/plain": [
              "array([[100, 201, 302, 403],\n",
              "       [104, 205, 306, 407],\n",
              "       [108, 209, 310, 411]])"
            ]
          },
          "execution_count": 131,
          "metadata": {},
          "output_type": "execute_result"
        }
      ],
      "source": [
        "B + A # Add a 1D array of shape (4,) to a 2D array of shape (3,4)"
      ]
    },
    {
      "cell_type": "code",
      "execution_count": 132,
      "metadata": {},
      "outputs": [
        {
          "name": "stdout",
          "output_type": "stream",
          "text": [
            "[[ 200  400  600  800]\n",
            " [ 300  600  900 1200]\n",
            " [ 400  800 1200 1600]]\n"
          ]
        },
        {
          "data": {
            "text/plain": [
              "(3, 4)"
            ]
          },
          "execution_count": 132,
          "metadata": {},
          "output_type": "execute_result"
        }
      ],
      "source": [
        "# Multiply a (3,1) column array to a (1,4) row array and observe the shape\n",
        "print(C * B)\n",
        "\n",
        "(C * B).shape"
      ]
    },
    {
      "cell_type": "code",
      "execution_count": 133,
      "metadata": {},
      "outputs": [
        {
          "name": "stdout",
          "output_type": "stream",
          "text": [
            "[[ 0  1  2  3]\n",
            " [ 4  5  6  7]\n",
            " [ 8  9 10 11]]\n"
          ]
        },
        {
          "data": {
            "text/plain": [
              "array([[ 5,  6,  7,  8],\n",
              "       [ 9, 10, 11, 12],\n",
              "       [13, 14, 15, 16]])"
            ]
          },
          "execution_count": 133,
          "metadata": {},
          "output_type": "execute_result"
        }
      ],
      "source": [
        "# Add a scalar to the entire array\n",
        "print(A)\n",
        "\n",
        "A + 5"
      ]
    },
    {
      "cell_type": "markdown",
      "metadata": {
        "id": "s0-ElcHm_uLL"
      },
      "source": [
        "\n",
        "---\n",
        "\n",
        "## 🔃 8. Reshaping and Flattening\n",
        "**Question:**\n",
        "1. Reshape a 1D array of 12 elements into a 3x4 matrix\n",
        "2. Flatten a 2D array into a 1D array\n",
        "\n",
        "```python\n",
        "arr = np.arange(12)\n",
        "\n",
        "```\n"
      ]
    },
    {
      "cell_type": "code",
      "execution_count": 134,
      "metadata": {
        "id": "6cuXtuHNABj7"
      },
      "outputs": [
        {
          "data": {
            "text/plain": [
              "array([ 0,  1,  2,  3,  4,  5,  6,  7,  8,  9, 10, 11])"
            ]
          },
          "execution_count": 134,
          "metadata": {},
          "output_type": "execute_result"
        }
      ],
      "source": [
        "arr = np.arange(12) # creating an array of 12 elements\n",
        "arr"
      ]
    },
    {
      "cell_type": "code",
      "execution_count": 135,
      "metadata": {},
      "outputs": [
        {
          "data": {
            "text/plain": [
              "array([[ 0,  1,  2,  3],\n",
              "       [ 4,  5,  6,  7],\n",
              "       [ 8,  9, 10, 11]])"
            ]
          },
          "execution_count": 135,
          "metadata": {},
          "output_type": "execute_result"
        }
      ],
      "source": [
        "arr = arr.reshape((3,4)) # reshape the array to 3x4\n",
        "arr"
      ]
    },
    {
      "cell_type": "code",
      "execution_count": 136,
      "metadata": {},
      "outputs": [
        {
          "data": {
            "text/plain": [
              "array([ 0,  1,  2,  3,  4,  5,  6,  7,  8,  9, 10, 11])"
            ]
          },
          "execution_count": 136,
          "metadata": {},
          "output_type": "execute_result"
        }
      ],
      "source": [
        "arr.flatten() # flatten the 2D array into 1D array"
      ]
    },
    {
      "cell_type": "markdown",
      "metadata": {
        "id": "wE_NIjfD_wYt"
      },
      "source": [
        "\n",
        "---\n",
        "\n",
        "## 🔗 9. Stacking and Splitting\n",
        "**Question:** Stack and split arrays:\n",
        "1. Stack two (2, 2) arrays vertically and horizontally\n",
        "2. reshape a (4, 4) array into array of shape (2, 8)\n",
        "\n",
        "\n",
        "---\n"
      ]
    },
    {
      "cell_type": "code",
      "execution_count": 137,
      "metadata": {},
      "outputs": [],
      "source": [
        "# getting our arrays ready for work\n",
        "arr1 = [\n",
        "    [1,2],\n",
        "    [3,4]\n",
        "]\n",
        "\n",
        "arr2 = [\n",
        "    [5,6],\n",
        "    [7,8]\n",
        "]"
      ]
    },
    {
      "cell_type": "code",
      "execution_count": null,
      "metadata": {},
      "outputs": [
        {
          "data": {
            "text/plain": [
              "array([[1, 2],\n",
              "       [3, 4],\n",
              "       [5, 6],\n",
              "       [7, 8]])"
            ]
          },
          "execution_count": 62,
          "metadata": {},
          "output_type": "execute_result"
        }
      ],
      "source": [
        "np.vstack((arr1,arr2)) # stack the arrays vertically"
      ]
    },
    {
      "cell_type": "code",
      "execution_count": 138,
      "metadata": {},
      "outputs": [
        {
          "data": {
            "text/plain": [
              "array([[1, 2, 5, 6],\n",
              "       [3, 4, 7, 8]])"
            ]
          },
          "execution_count": 138,
          "metadata": {},
          "output_type": "execute_result"
        }
      ],
      "source": [
        "np.hstack((arr1 , arr2)) # stack the arrays horizontally"
      ]
    },
    {
      "cell_type": "code",
      "execution_count": 140,
      "metadata": {},
      "outputs": [
        {
          "data": {
            "text/plain": [
              "array([[ 1,  2,  3,  4,  5,  6,  7,  8],\n",
              "       [ 9, 10, 11, 12, 13, 14, 15, 16]])"
            ]
          },
          "execution_count": 140,
          "metadata": {},
          "output_type": "execute_result"
        }
      ],
      "source": [
        "# creating a 4x4 2D array for reshape and applying the new shape 2x8 on it\n",
        "arr =np.array( [\n",
        "    [1,2,3,4],\n",
        "    [5,6,7,8],\n",
        "    [9,10,11,12],\n",
        "    [13,14,15,16]\n",
        "])\n",
        "\n",
        "arr.reshape((2,8))"
      ]
    },
    {
      "cell_type": "markdown",
      "metadata": {
        "id": "xEMoDhIO_xz1"
      },
      "source": [
        "\n",
        "## 🧠 10. Boolean Masking\n",
        "**Question:**\n",
        "Given an array:\n",
        "1. Select all elements > 10\n",
        "2. Replace all even numbers with -1\n",
        "\n",
        "```python\n",
        "arr = np.array([[5, 10, 15], [20, 25, 30]])\n",
        "\n",
        "```\n"
      ]
    },
    {
      "cell_type": "code",
      "execution_count": 141,
      "metadata": {
        "id": "jejS1-qiADMy"
      },
      "outputs": [
        {
          "data": {
            "text/plain": [
              "array([[ 5, 10, 15],\n",
              "       [20, 25, 30]])"
            ]
          },
          "execution_count": 141,
          "metadata": {},
          "output_type": "execute_result"
        }
      ],
      "source": [
        "# getting our array ready\n",
        "arr = np.array([[5, 10, 15], [20, 25, 30]])\n",
        "arr"
      ]
    },
    {
      "cell_type": "code",
      "execution_count": null,
      "metadata": {},
      "outputs": [
        {
          "data": {
            "text/plain": [
              "array([15, 20, 25, 30])"
            ]
          },
          "execution_count": 65,
          "metadata": {},
          "output_type": "execute_result"
        }
      ],
      "source": [
        "arr[arr>10] # getting only the elements larger than 10"
      ]
    },
    {
      "cell_type": "code",
      "execution_count": 142,
      "metadata": {},
      "outputs": [
        {
          "data": {
            "text/plain": [
              "array([[ 5, -1, 15],\n",
              "       [-1, 25, -1]])"
            ]
          },
          "execution_count": 142,
          "metadata": {},
          "output_type": "execute_result"
        }
      ],
      "source": [
        "np.where(arr%2==0 ,-1, arr ) # replace every even number with -1 and leave odd numbers as it is"
      ]
    },
    {
      "cell_type": "markdown",
      "metadata": {
        "id": "9AY2Y8HR_zSR"
      },
      "source": [
        "\n",
        "---\n",
        "\n",
        "## 🧮 11. Aggregation\n",
        "**Question:** Calculate:\n",
        "1. Sum of all elements\n",
        "2. Mean of each column\n",
        "3. Max value in each row\n",
        "4. Standard deviation of the array\n",
        "\n",
        "```python\n",
        "arr = np.array([[1, 2, 3], [4, 5, 6]])\n",
        "\n",
        "```\n"
      ]
    },
    {
      "cell_type": "code",
      "execution_count": 143,
      "metadata": {
        "id": "xlaIab8NAESs"
      },
      "outputs": [
        {
          "data": {
            "text/plain": [
              "array([[1, 2, 3],\n",
              "       [4, 5, 6]])"
            ]
          },
          "execution_count": 143,
          "metadata": {},
          "output_type": "execute_result"
        }
      ],
      "source": [
        "# getting our array ready\n",
        "arr = np.array([[1, 2, 3], [4, 5, 6]])\n",
        "arr"
      ]
    },
    {
      "cell_type": "code",
      "execution_count": 144,
      "metadata": {},
      "outputs": [
        {
          "data": {
            "text/plain": [
              "21"
            ]
          },
          "execution_count": 144,
          "metadata": {},
          "output_type": "execute_result"
        }
      ],
      "source": [
        "np.sum(arr) # getting the sum of all the elements in the array"
      ]
    },
    {
      "cell_type": "code",
      "execution_count": 145,
      "metadata": {},
      "outputs": [
        {
          "data": {
            "text/plain": [
              "3.5"
            ]
          },
          "execution_count": 145,
          "metadata": {},
          "output_type": "execute_result"
        }
      ],
      "source": [
        "np.mean(arr) # getting the mean of the elements in the array"
      ]
    },
    {
      "cell_type": "code",
      "execution_count": 146,
      "metadata": {},
      "outputs": [
        {
          "data": {
            "text/plain": [
              "6"
            ]
          },
          "execution_count": 146,
          "metadata": {},
          "output_type": "execute_result"
        }
      ],
      "source": [
        "np.max(arr) # getting the max number from the array"
      ]
    },
    {
      "cell_type": "code",
      "execution_count": 147,
      "metadata": {},
      "outputs": [
        {
          "data": {
            "text/plain": [
              "1.707825127659933"
            ]
          },
          "execution_count": 147,
          "metadata": {},
          "output_type": "execute_result"
        }
      ],
      "source": [
        "np.std(arr) # getting standard deviation of the array"
      ]
    },
    {
      "cell_type": "markdown",
      "metadata": {
        "id": "N4mqr1Gr_0Kt"
      },
      "source": [
        "\n",
        "---\n",
        "\n",
        "## 🧲 12. Dot Product and Matrix Multiplication\n",
        "**Question:**\n",
        "1. Multiply two matrices using `np.dot`\n",
        "\n",
        "```python\n",
        "A = np.array([[1, 2],\n",
        "              [3, 4]])\n",
        "B = np.array([[5, 6],\n",
        "              [7, 8]])\n",
        "\n",
        "```\n"
      ]
    },
    {
      "cell_type": "code",
      "execution_count": 148,
      "metadata": {
        "id": "gbWAzqoYAFR0"
      },
      "outputs": [],
      "source": [
        "# getting our arrays ready to work on them\n",
        "A = np.array([[1, 2],\n",
        "              [3, 4]])\n",
        "B = np.array([[5, 6],\n",
        "              [7, 8]])"
      ]
    },
    {
      "cell_type": "code",
      "execution_count": 149,
      "metadata": {},
      "outputs": [
        {
          "data": {
            "text/plain": [
              "array([[19, 22],\n",
              "       [43, 50]])"
            ]
          },
          "execution_count": 149,
          "metadata": {},
          "output_type": "execute_result"
        }
      ],
      "source": [
        "# applying dot product on them\n",
        "A.dot(B)"
      ]
    },
    {
      "cell_type": "markdown",
      "metadata": {
        "id": "W1UDOAdi_1ar"
      },
      "source": [
        "\n",
        "---\n",
        "\n",
        "## 🔢 13. Random Numbers\n",
        "**Question:**\n",
        "1. Generate a 2x3 array of random numbers between 0 and 1\n",
        "2. Generate 10 random integers between 50 and 100\n",
        "\n"
      ]
    },
    {
      "cell_type": "code",
      "execution_count": 150,
      "metadata": {
        "id": "jOVTvy_hAGcv"
      },
      "outputs": [
        {
          "data": {
            "text/plain": [
              "array([[0.99920709, 0.80164655, 0.15014531],\n",
              "       [0.14072872, 0.58825579, 0.06393534]])"
            ]
          },
          "execution_count": 150,
          "metadata": {},
          "output_type": "execute_result"
        }
      ],
      "source": [
        "# creating an array of the shape 2x3 in the range from 0 to 1\n",
        "np.random.rand(2,3)"
      ]
    },
    {
      "cell_type": "code",
      "execution_count": 152,
      "metadata": {},
      "outputs": [
        {
          "data": {
            "text/plain": [
              "array([83, 75, 51, 68, 61, 67, 97, 90, 57, 66])"
            ]
          },
          "execution_count": 152,
          "metadata": {},
          "output_type": "execute_result"
        }
      ],
      "source": [
        "# creating an array of the shape 10, with random integers from range 50 to 100\n",
        "np.random.randint(50,100 , (10,))"
      ]
    },
    {
      "cell_type": "markdown",
      "metadata": {
        "id": "O-rWgFCv_27-"
      },
      "source": [
        "\n",
        "---\n",
        "\n",
        "## 📐 14. Linear Algebra\n",
        "**Question:**\n",
        "1. Find the rank of a matrix\n",
        "2. Compute the inverse of a matrix\n",
        "3. Compute the determinant of a matrix\n",
        "\n",
        "\n",
        "\n",
        "---\n"
      ]
    },
    {
      "cell_type": "code",
      "execution_count": 153,
      "metadata": {
        "id": "rcW7oVrGAGwI"
      },
      "outputs": [
        {
          "data": {
            "text/plain": [
              "[[2, 4], [4, 8]]"
            ]
          },
          "execution_count": 153,
          "metadata": {},
          "output_type": "execute_result"
        }
      ],
      "source": [
        "# create a matrix with low rank\n",
        "arr = [\n",
        "    [2,4],\n",
        "    [4,8]\n",
        "]\n",
        "arr"
      ]
    },
    {
      "cell_type": "code",
      "execution_count": 154,
      "metadata": {},
      "outputs": [
        {
          "data": {
            "text/plain": [
              "1"
            ]
          },
          "execution_count": 154,
          "metadata": {},
          "output_type": "execute_result"
        }
      ],
      "source": [
        "# returning the rank of the matrix\n",
        "np.linalg.matrix_rank(arr)"
      ]
    },
    {
      "cell_type": "code",
      "execution_count": 156,
      "metadata": {},
      "outputs": [
        {
          "data": {
            "text/plain": [
              "array([[-0.66666667,  0.33333333],\n",
              "       [ 0.41666667, -0.08333333]])"
            ]
          },
          "execution_count": 156,
          "metadata": {},
          "output_type": "execute_result"
        }
      ],
      "source": [
        "# creating a matrix that has inverse and getting the inverse of it\n",
        "arr_inv = [\n",
        "    [1,4],\n",
        "    [5,8]\n",
        "]\n",
        "np.linalg.inv(arr_inv)"
      ]
    },
    {
      "cell_type": "code",
      "execution_count": 157,
      "metadata": {},
      "outputs": [
        {
          "data": {
            "text/plain": [
              "-11.999999999999995"
            ]
          },
          "execution_count": 157,
          "metadata": {},
          "output_type": "execute_result"
        }
      ],
      "source": [
        "# getting the determinant of the above array\n",
        "np.linalg.det(arr_inv)"
      ]
    },
    {
      "cell_type": "markdown",
      "metadata": {
        "id": "lQb606tk_5L5"
      },
      "source": [
        "\n",
        "## ⭐ Bonus Challenge\n",
        "**Question:**\n",
        "Given a 2D array of shape (6, 6), extract all 3x3 submatrices (using slicing) and store them in a list.\n",
        "\n"
      ]
    },
    {
      "cell_type": "code",
      "execution_count": 162,
      "metadata": {
        "id": "dNR9aI5m9Vrr"
      },
      "outputs": [
        {
          "data": {
            "text/plain": [
              "array([[17, 35,  8, 36, 13, 44],\n",
              "       [41, 42, 12, 12, 42, 48],\n",
              "       [25, 47,  6, 20, 11, 24],\n",
              "       [41, 35,  2, 34, 31,  2],\n",
              "       [41, 35, 44, 21, 27, 28],\n",
              "       [11,  1, 31, 16,  7, 25]])"
            ]
          },
          "execution_count": 162,
          "metadata": {},
          "output_type": "execute_result"
        }
      ],
      "source": [
        "# creating the matrix we are gonna work on it\n",
        "arr = np.random.randint(0,50 , (6,6))\n",
        "arr"
      ]
    },
    {
      "cell_type": "code",
      "execution_count": 160,
      "metadata": {},
      "outputs": [
        {
          "data": {
            "text/plain": [
              "(6, 6)"
            ]
          },
          "execution_count": 160,
          "metadata": {},
          "output_type": "execute_result"
        }
      ],
      "source": [
        "arr.shape # print the shape of the array for better understanding of it"
      ]
    },
    {
      "cell_type": "code",
      "execution_count": 166,
      "metadata": {},
      "outputs": [
        {
          "data": {
            "text/plain": [
              "[array([[17, 35,  8],\n",
              "        [41, 42, 12],\n",
              "        [25, 47,  6]]),\n",
              " array([[35,  8, 36],\n",
              "        [42, 12, 12],\n",
              "        [47,  6, 20]]),\n",
              " array([[ 8, 36, 13],\n",
              "        [12, 12, 42],\n",
              "        [ 6, 20, 11]]),\n",
              " array([[36, 13, 44],\n",
              "        [12, 42, 48],\n",
              "        [20, 11, 24]]),\n",
              " array([[41, 42, 12],\n",
              "        [25, 47,  6],\n",
              "        [41, 35,  2]]),\n",
              " array([[42, 12, 12],\n",
              "        [47,  6, 20],\n",
              "        [35,  2, 34]]),\n",
              " array([[12, 12, 42],\n",
              "        [ 6, 20, 11],\n",
              "        [ 2, 34, 31]]),\n",
              " array([[12, 42, 48],\n",
              "        [20, 11, 24],\n",
              "        [34, 31,  2]]),\n",
              " array([[25, 47,  6],\n",
              "        [41, 35,  2],\n",
              "        [41, 35, 44]]),\n",
              " array([[47,  6, 20],\n",
              "        [35,  2, 34],\n",
              "        [35, 44, 21]]),\n",
              " array([[ 6, 20, 11],\n",
              "        [ 2, 34, 31],\n",
              "        [44, 21, 27]]),\n",
              " array([[20, 11, 24],\n",
              "        [34, 31,  2],\n",
              "        [21, 27, 28]]),\n",
              " array([[41, 35,  2],\n",
              "        [41, 35, 44],\n",
              "        [11,  1, 31]]),\n",
              " array([[35,  2, 34],\n",
              "        [35, 44, 21],\n",
              "        [ 1, 31, 16]]),\n",
              " array([[ 2, 34, 31],\n",
              "        [44, 21, 27],\n",
              "        [31, 16,  7]]),\n",
              " array([[34, 31,  2],\n",
              "        [21, 27, 28],\n",
              "        [16,  7, 25]])]"
            ]
          },
          "execution_count": 166,
          "metadata": {},
          "output_type": "execute_result"
        }
      ],
      "source": [
        "mats = [] # list to store all the possible matrices\n",
        "\n",
        "for row in range(arr.shape[0]-2): # loop over the rows of the matrix\n",
        "    for col in range(arr.shape[1]-2): # loop over the cloumns of the matrix\n",
        "        matrix = arr[row:row+3 ,col : col+3 ] # getting the sub matrix from the large one\n",
        "        mats.append( matrix) # store it in the list\n",
        "mats # printing the list"
      ]
    },
    {
      "cell_type": "code",
      "execution_count": 169,
      "metadata": {},
      "outputs": [
        {
          "data": {
            "text/plain": [
              "[array([[17, 35,  8],\n",
              "        [41, 42, 12],\n",
              "        [25, 47,  6]]),\n",
              " array([[35,  8, 36],\n",
              "        [42, 12, 12],\n",
              "        [47,  6, 20]]),\n",
              " array([[ 8, 36, 13],\n",
              "        [12, 12, 42],\n",
              "        [ 6, 20, 11]]),\n",
              " array([[36, 13, 44],\n",
              "        [12, 42, 48],\n",
              "        [20, 11, 24]]),\n",
              " array([[41, 42, 12],\n",
              "        [25, 47,  6],\n",
              "        [41, 35,  2]]),\n",
              " array([[42, 12, 12],\n",
              "        [47,  6, 20],\n",
              "        [35,  2, 34]]),\n",
              " array([[12, 12, 42],\n",
              "        [ 6, 20, 11],\n",
              "        [ 2, 34, 31]]),\n",
              " array([[12, 42, 48],\n",
              "        [20, 11, 24],\n",
              "        [34, 31,  2]]),\n",
              " array([[25, 47,  6],\n",
              "        [41, 35,  2],\n",
              "        [41, 35, 44]]),\n",
              " array([[47,  6, 20],\n",
              "        [35,  2, 34],\n",
              "        [35, 44, 21]]),\n",
              " array([[ 6, 20, 11],\n",
              "        [ 2, 34, 31],\n",
              "        [44, 21, 27]]),\n",
              " array([[20, 11, 24],\n",
              "        [34, 31,  2],\n",
              "        [21, 27, 28]]),\n",
              " array([[41, 35,  2],\n",
              "        [41, 35, 44],\n",
              "        [11,  1, 31]]),\n",
              " array([[35,  2, 34],\n",
              "        [35, 44, 21],\n",
              "        [ 1, 31, 16]]),\n",
              " array([[ 2, 34, 31],\n",
              "        [44, 21, 27],\n",
              "        [31, 16,  7]]),\n",
              " array([[34, 31,  2],\n",
              "        [21, 27, 28],\n",
              "        [16,  7, 25]])]"
            ]
          },
          "execution_count": 169,
          "metadata": {},
          "output_type": "execute_result"
        }
      ],
      "source": [
        "# for more dynammic control over the code to fit more matrices \n",
        "def get_sub_matrices(arr : np.ndarray, sub_arr_shape : tuple =(3,3)) -> list[np.ndarray] :\n",
        "    '''\n",
        "    a function that takes an array as input and extract all possible sub arrays from it using indexing (moving on the array like window and take sub arrays from it)\n",
        "    input -> arr : array of any shape , sub_arr_shape : the shape of the desired sub arrays\n",
        "    output -> returns mats : a list containing all the possible sub arrays from the passed array\n",
        "    '''\n",
        "    mats = [] # list to store all the possible matrices\n",
        "\n",
        "    for row in range(( arr.shape[0] ) - ( sub_arr_shape[0] - 1 )): # loop over the rows of the matrix and exclude some of the last rows (depending on the shape of the sub matrix)\n",
        "        for col in range(( arr.shape[1] ) - ( sub_arr_shape[1] - 1 )): # loop over the cloumns of the matrix and exclude some of the last columns (depending on the shape of the sub matrix)\n",
        "            matrix = arr[row: (row + sub_arr_shape[0]) ,col : (col + sub_arr_shape[1]) ] # getting the sub matrix from the large one\n",
        "            mats.append( matrix) # store it in the list\n",
        "    return mats # printing the list\n",
        "get_sub_matrices(arr )"
      ]
    },
    {
      "cell_type": "markdown",
      "metadata": {
        "id": "-qOCxwQnAJn2"
      },
      "source": [
        "\n",
        "---\n",
        "\n",
        "Happy coding! 🎯\n"
      ]
    },
    {
      "cell_type": "markdown",
      "metadata": {
        "id": "MBHa4EcJAJxF"
      },
      "source": [
        "# *always*"
      ]
    }
  ],
  "metadata": {
    "colab": {
      "provenance": []
    },
    "kernelspec": {
      "display_name": "base",
      "language": "python",
      "name": "python3"
    },
    "language_info": {
      "codemirror_mode": {
        "name": "ipython",
        "version": 3
      },
      "file_extension": ".py",
      "mimetype": "text/x-python",
      "name": "python",
      "nbconvert_exporter": "python",
      "pygments_lexer": "ipython3",
      "version": "3.11.7"
    }
  },
  "nbformat": 4,
  "nbformat_minor": 0
}
